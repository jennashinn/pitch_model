{
 "cells": [
  {
   "cell_type": "markdown",
   "metadata": {},
   "source": [
    "## Updated model on individual pitchers\n",
    "\n",
    "### Importing Packages and Data"
   ]
  },
  {
   "cell_type": "code",
   "execution_count": 1,
   "metadata": {},
   "outputs": [],
   "source": [
    "# General Packages\n",
    "import numpy as np\n",
    "import pandas as pd\n",
    "import seaborn as sns\n",
    "import matplotlib.pyplot as plt\n",
    "%matplotlib inline\n",
    "\n",
    "# Machine Learning\n",
    "from sklearn.model_selection import train_test_split\n",
    "from sklearn.model_selection import cross_val_score\n",
    "from sklearn.tree import DecisionTreeClassifier\n",
    "from sklearn.metrics import accuracy_score\n",
    "from sklearn.metrics import classification_report\n",
    "from sklearn.metrics import confusion_matrix\n",
    "\n",
    "import warnings\n",
    "warnings.filterwarnings('ignore')\n",
    "pd.set_option('display.max_columns', None)"
   ]
  },
  {
   "cell_type": "code",
   "execution_count": 2,
   "metadata": {},
   "outputs": [],
   "source": [
    "data_raw = pd.read_csv('savant_2021_regular.csv').drop(['Unnamed: 0'], axis=1)"
   ]
  },
  {
   "cell_type": "markdown",
   "metadata": {},
   "source": [
    "### Quickly cleaning\n",
    "This is the same cleaning and basic EDA process from the previous notebook, with the addition of the last step:"
   ]
  },
  {
   "cell_type": "code",
   "execution_count": 3,
   "metadata": {},
   "outputs": [],
   "source": [
    "# Changing Fastball to 4-Seam Fastball\n",
    "data_raw['pitch_name'].mask(data_raw['pitch_name'] == 'Fastball', data_raw['pitch_name'].str.lower(), inplace=True)\n",
    "data_raw['pitch_name'].mask(data_raw['pitch_name'] == 'fastball', '4-Seam Fastball', inplace=True)"
   ]
  },
  {
   "cell_type": "code",
   "execution_count": 4,
   "metadata": {},
   "outputs": [],
   "source": [
    "# Dropping pitches with a count less than 100 \n",
    "x = data_raw.groupby(['pitch_name']).size().reset_index().rename(columns={0:'count'})\n",
    "rare = x.loc[x['count'] < 100]\n",
    "rare = rare['pitch_name'].to_list()"
   ]
  },
  {
   "cell_type": "code",
   "execution_count": 5,
   "metadata": {},
   "outputs": [],
   "source": [
    "df = data_raw.loc[~data_raw['pitch_name'].isin(rare)]"
   ]
  },
  {
   "cell_type": "markdown",
   "metadata": {},
   "source": [
    "#### Looking at pitchers"
   ]
  },
  {
   "cell_type": "code",
   "execution_count": 6,
   "metadata": {},
   "outputs": [
    {
     "data": {
      "text/html": [
       "<div>\n",
       "<style scoped>\n",
       "    .dataframe tbody tr th:only-of-type {\n",
       "        vertical-align: middle;\n",
       "    }\n",
       "\n",
       "    .dataframe tbody tr th {\n",
       "        vertical-align: top;\n",
       "    }\n",
       "\n",
       "    .dataframe thead th {\n",
       "        text-align: right;\n",
       "    }\n",
       "</style>\n",
       "<table border=\"1\" class=\"dataframe\">\n",
       "  <thead>\n",
       "    <tr style=\"text-align: right;\">\n",
       "      <th></th>\n",
       "      <th>pitcher</th>\n",
       "      <th>count</th>\n",
       "    </tr>\n",
       "  </thead>\n",
       "  <tbody>\n",
       "    <tr>\n",
       "      <th>125</th>\n",
       "      <td>Brett Phillips</td>\n",
       "      <td>1</td>\n",
       "    </tr>\n",
       "    <tr>\n",
       "      <th>331</th>\n",
       "      <td>Hanser Alberto</td>\n",
       "      <td>2</td>\n",
       "    </tr>\n",
       "    <tr>\n",
       "      <th>363</th>\n",
       "      <td>Jack Mayfield</td>\n",
       "      <td>3</td>\n",
       "    </tr>\n",
       "    <tr>\n",
       "      <th>769</th>\n",
       "      <td>Sergio Alcántara</td>\n",
       "      <td>4</td>\n",
       "    </tr>\n",
       "    <tr>\n",
       "      <th>720</th>\n",
       "      <td>Romy Gonzalez</td>\n",
       "      <td>4</td>\n",
       "    </tr>\n",
       "    <tr>\n",
       "      <th>...</th>\n",
       "      <td>...</td>\n",
       "      <td>...</td>\n",
       "    </tr>\n",
       "    <tr>\n",
       "      <th>713</th>\n",
       "      <td>Robbie Ray</td>\n",
       "      <td>3141</td>\n",
       "    </tr>\n",
       "    <tr>\n",
       "      <th>869</th>\n",
       "      <td>Walker Buehler</td>\n",
       "      <td>3152</td>\n",
       "    </tr>\n",
       "    <tr>\n",
       "      <th>566</th>\n",
       "      <td>Luis Castillo</td>\n",
       "      <td>3164</td>\n",
       "    </tr>\n",
       "    <tr>\n",
       "      <th>855</th>\n",
       "      <td>Tyler Mahle</td>\n",
       "      <td>3196</td>\n",
       "    </tr>\n",
       "    <tr>\n",
       "      <th>906</th>\n",
       "      <td>Zack Wheeler</td>\n",
       "      <td>3205</td>\n",
       "    </tr>\n",
       "  </tbody>\n",
       "</table>\n",
       "<p>907 rows × 2 columns</p>\n",
       "</div>"
      ],
      "text/plain": [
       "              pitcher  count\n",
       "125    Brett Phillips      1\n",
       "331    Hanser Alberto      2\n",
       "363     Jack Mayfield      3\n",
       "769  Sergio Alcántara      4\n",
       "720     Romy Gonzalez      4\n",
       "..                ...    ...\n",
       "713        Robbie Ray   3141\n",
       "869    Walker Buehler   3152\n",
       "566     Luis Castillo   3164\n",
       "855       Tyler Mahle   3196\n",
       "906      Zack Wheeler   3205\n",
       "\n",
       "[907 rows x 2 columns]"
      ]
     },
     "execution_count": 6,
     "metadata": {},
     "output_type": "execute_result"
    }
   ],
   "source": [
    "pitchers = df.groupby(['pitcher']).size().reset_index().rename(columns={0:'count'})\n",
    "pitchers.sort_values(['count'], ascending = True)\n"
   ]
  },
  {
   "cell_type": "markdown",
   "metadata": {},
   "source": [
    "**Wait a second**- Hanser Alberto is an infielder. How did he pitch two pitches? \n",
    "When a team is down several runs in the late innings, sometimes the manager will wave the white flag and allow a position player to pitch so that he doesn't \"burn\" any more of his bullpen arms.\n",
    "\n",
    "Let's see what was going on in the game when he came in to pitch: "
   ]
  },
  {
   "cell_type": "code",
   "execution_count": 7,
   "metadata": {},
   "outputs": [
    {
     "data": {
      "text/html": [
       "<div>\n",
       "<style scoped>\n",
       "    .dataframe tbody tr th:only-of-type {\n",
       "        vertical-align: middle;\n",
       "    }\n",
       "\n",
       "    .dataframe tbody tr th {\n",
       "        vertical-align: top;\n",
       "    }\n",
       "\n",
       "    .dataframe thead th {\n",
       "        text-align: right;\n",
       "    }\n",
       "</style>\n",
       "<table border=\"1\" class=\"dataframe\">\n",
       "  <thead>\n",
       "    <tr style=\"text-align: right;\">\n",
       "      <th></th>\n",
       "      <th>batter</th>\n",
       "      <th>pitcher</th>\n",
       "      <th>pitch_type</th>\n",
       "      <th>game_date</th>\n",
       "      <th>release_speed</th>\n",
       "      <th>release_pos_x</th>\n",
       "      <th>release_pos_z</th>\n",
       "      <th>events</th>\n",
       "      <th>description</th>\n",
       "      <th>zone</th>\n",
       "      <th>des</th>\n",
       "      <th>game_type</th>\n",
       "      <th>stand</th>\n",
       "      <th>p_throws</th>\n",
       "      <th>home_team</th>\n",
       "      <th>away_team</th>\n",
       "      <th>type</th>\n",
       "      <th>hit_location</th>\n",
       "      <th>bb_type</th>\n",
       "      <th>balls</th>\n",
       "      <th>strikes</th>\n",
       "      <th>game_year</th>\n",
       "      <th>pfx_x</th>\n",
       "      <th>pfx_z</th>\n",
       "      <th>plate_x</th>\n",
       "      <th>plate_z</th>\n",
       "      <th>on_3b</th>\n",
       "      <th>on_2b</th>\n",
       "      <th>on_1b</th>\n",
       "      <th>outs_when_up</th>\n",
       "      <th>inning</th>\n",
       "      <th>inning_topbot</th>\n",
       "      <th>hc_x</th>\n",
       "      <th>hc_y</th>\n",
       "      <th>fielder_2</th>\n",
       "      <th>vx0</th>\n",
       "      <th>vy0</th>\n",
       "      <th>vz0</th>\n",
       "      <th>ax</th>\n",
       "      <th>ay</th>\n",
       "      <th>az</th>\n",
       "      <th>sz_top</th>\n",
       "      <th>sz_bot</th>\n",
       "      <th>hit_distance_sc</th>\n",
       "      <th>launch_speed</th>\n",
       "      <th>launch_angle</th>\n",
       "      <th>effective_speed</th>\n",
       "      <th>release_spin_rate</th>\n",
       "      <th>release_extension</th>\n",
       "      <th>game_pk</th>\n",
       "      <th>pitcher.1</th>\n",
       "      <th>fielder_2.1</th>\n",
       "      <th>fielder_3</th>\n",
       "      <th>fielder_4</th>\n",
       "      <th>fielder_5</th>\n",
       "      <th>fielder_6</th>\n",
       "      <th>fielder_7</th>\n",
       "      <th>fielder_8</th>\n",
       "      <th>fielder_9</th>\n",
       "      <th>release_pos_y</th>\n",
       "      <th>estimated_ba_using_speedangle</th>\n",
       "      <th>estimated_woba_using_speedangle</th>\n",
       "      <th>woba_value</th>\n",
       "      <th>woba_denom</th>\n",
       "      <th>babip_value</th>\n",
       "      <th>iso_value</th>\n",
       "      <th>launch_speed_angle</th>\n",
       "      <th>at_bat_number</th>\n",
       "      <th>pitch_number</th>\n",
       "      <th>pitch_name</th>\n",
       "      <th>home_score</th>\n",
       "      <th>away_score</th>\n",
       "      <th>bat_score</th>\n",
       "      <th>fld_score</th>\n",
       "      <th>post_away_score</th>\n",
       "      <th>post_home_score</th>\n",
       "      <th>post_bat_score</th>\n",
       "      <th>post_fld_score</th>\n",
       "      <th>if_fielding_alignment</th>\n",
       "      <th>of_fielding_alignment</th>\n",
       "      <th>spin_axis</th>\n",
       "      <th>delta_home_win_exp</th>\n",
       "      <th>delta_run_exp</th>\n",
       "      <th>key_mlbam</th>\n",
       "      <th>key_retro</th>\n",
       "      <th>key_bbref</th>\n",
       "      <th>key_fangraphs</th>\n",
       "      <th>mlb_played_first</th>\n",
       "      <th>mlb_played_last</th>\n",
       "    </tr>\n",
       "  </thead>\n",
       "  <tbody>\n",
       "    <tr>\n",
       "      <th>639012</th>\n",
       "      <td>Brandon Lowe</td>\n",
       "      <td>Hanser Alberto</td>\n",
       "      <td>FA</td>\n",
       "      <td>2021-04-20</td>\n",
       "      <td>64.9</td>\n",
       "      <td>-2.31</td>\n",
       "      <td>5.78</td>\n",
       "      <td>field_out</td>\n",
       "      <td>hit_into_play</td>\n",
       "      <td>4.0</td>\n",
       "      <td>Brandon Lowe flies out to left fielder Andrew ...</td>\n",
       "      <td>R</td>\n",
       "      <td>L</td>\n",
       "      <td>R</td>\n",
       "      <td>KC</td>\n",
       "      <td>TB</td>\n",
       "      <td>X</td>\n",
       "      <td>7.0</td>\n",
       "      <td>fly_ball</td>\n",
       "      <td>1</td>\n",
       "      <td>0</td>\n",
       "      <td>2021</td>\n",
       "      <td>-0.04</td>\n",
       "      <td>1.11</td>\n",
       "      <td>-0.28</td>\n",
       "      <td>2.66</td>\n",
       "      <td>NaN</td>\n",
       "      <td>621563.0</td>\n",
       "      <td>NaN</td>\n",
       "      <td>2</td>\n",
       "      <td>9</td>\n",
       "      <td>Top</td>\n",
       "      <td>78.82</td>\n",
       "      <td>120.58</td>\n",
       "      <td>521692.0</td>\n",
       "      <td>3.574256</td>\n",
       "      <td>-94.381933</td>\n",
       "      <td>0.987472</td>\n",
       "      <td>-0.833119</td>\n",
       "      <td>15.266780</td>\n",
       "      <td>-25.980730</td>\n",
       "      <td>3.30</td>\n",
       "      <td>1.50</td>\n",
       "      <td>228.0</td>\n",
       "      <td>87.0</td>\n",
       "      <td>54.0</td>\n",
       "      <td>62.8</td>\n",
       "      <td>1342.0</td>\n",
       "      <td>4.6</td>\n",
       "      <td>634407</td>\n",
       "      <td>593643</td>\n",
       "      <td>521692.0</td>\n",
       "      <td>467793.0</td>\n",
       "      <td>593160.0</td>\n",
       "      <td>641531.0</td>\n",
       "      <td>670032.0</td>\n",
       "      <td>643217.0</td>\n",
       "      <td>572191.0</td>\n",
       "      <td>664728.0</td>\n",
       "      <td>55.89</td>\n",
       "      <td>0.017</td>\n",
       "      <td>0.017</td>\n",
       "      <td>0.0</td>\n",
       "      <td>1.0</td>\n",
       "      <td>0.0</td>\n",
       "      <td>0.0</td>\n",
       "      <td>3.0</td>\n",
       "      <td>86</td>\n",
       "      <td>2</td>\n",
       "      <td>4-Seam Fastball</td>\n",
       "      <td>7</td>\n",
       "      <td>14</td>\n",
       "      <td>14</td>\n",
       "      <td>7</td>\n",
       "      <td>14</td>\n",
       "      <td>7</td>\n",
       "      <td>14</td>\n",
       "      <td>7</td>\n",
       "      <td>Infield shift</td>\n",
       "      <td>Standard</td>\n",
       "      <td>221.0</td>\n",
       "      <td>0.0</td>\n",
       "      <td>-0.343</td>\n",
       "      <td>664040</td>\n",
       "      <td>loweb001</td>\n",
       "      <td>lowebr01</td>\n",
       "      <td>18882</td>\n",
       "      <td>2018.0</td>\n",
       "      <td>2021.0</td>\n",
       "    </tr>\n",
       "    <tr>\n",
       "      <th>639013</th>\n",
       "      <td>Brandon Lowe</td>\n",
       "      <td>Hanser Alberto</td>\n",
       "      <td>FA</td>\n",
       "      <td>2021-04-20</td>\n",
       "      <td>64.8</td>\n",
       "      <td>-2.31</td>\n",
       "      <td>5.80</td>\n",
       "      <td>NaN</td>\n",
       "      <td>ball</td>\n",
       "      <td>14.0</td>\n",
       "      <td>Brandon Lowe flies out to left fielder Andrew ...</td>\n",
       "      <td>R</td>\n",
       "      <td>L</td>\n",
       "      <td>R</td>\n",
       "      <td>KC</td>\n",
       "      <td>TB</td>\n",
       "      <td>B</td>\n",
       "      <td>NaN</td>\n",
       "      <td>NaN</td>\n",
       "      <td>0</td>\n",
       "      <td>0</td>\n",
       "      <td>2021</td>\n",
       "      <td>-0.37</td>\n",
       "      <td>1.10</td>\n",
       "      <td>0.83</td>\n",
       "      <td>1.23</td>\n",
       "      <td>NaN</td>\n",
       "      <td>621563.0</td>\n",
       "      <td>NaN</td>\n",
       "      <td>2</td>\n",
       "      <td>9</td>\n",
       "      <td>Top</td>\n",
       "      <td>NaN</td>\n",
       "      <td>NaN</td>\n",
       "      <td>521692.0</td>\n",
       "      <td>5.935795</td>\n",
       "      <td>-94.228769</td>\n",
       "      <td>-1.544814</td>\n",
       "      <td>-3.095241</td>\n",
       "      <td>14.168066</td>\n",
       "      <td>-25.594118</td>\n",
       "      <td>3.25</td>\n",
       "      <td>1.46</td>\n",
       "      <td>NaN</td>\n",
       "      <td>NaN</td>\n",
       "      <td>NaN</td>\n",
       "      <td>62.4</td>\n",
       "      <td>1304.0</td>\n",
       "      <td>4.2</td>\n",
       "      <td>634407</td>\n",
       "      <td>593643</td>\n",
       "      <td>521692.0</td>\n",
       "      <td>467793.0</td>\n",
       "      <td>593160.0</td>\n",
       "      <td>641531.0</td>\n",
       "      <td>670032.0</td>\n",
       "      <td>643217.0</td>\n",
       "      <td>572191.0</td>\n",
       "      <td>664728.0</td>\n",
       "      <td>56.30</td>\n",
       "      <td>NaN</td>\n",
       "      <td>NaN</td>\n",
       "      <td>NaN</td>\n",
       "      <td>NaN</td>\n",
       "      <td>NaN</td>\n",
       "      <td>NaN</td>\n",
       "      <td>NaN</td>\n",
       "      <td>86</td>\n",
       "      <td>1</td>\n",
       "      <td>4-Seam Fastball</td>\n",
       "      <td>7</td>\n",
       "      <td>14</td>\n",
       "      <td>14</td>\n",
       "      <td>7</td>\n",
       "      <td>14</td>\n",
       "      <td>7</td>\n",
       "      <td>14</td>\n",
       "      <td>7</td>\n",
       "      <td>Infield shift</td>\n",
       "      <td>Standard</td>\n",
       "      <td>226.0</td>\n",
       "      <td>0.0</td>\n",
       "      <td>0.025</td>\n",
       "      <td>664040</td>\n",
       "      <td>loweb001</td>\n",
       "      <td>lowebr01</td>\n",
       "      <td>18882</td>\n",
       "      <td>2018.0</td>\n",
       "      <td>2021.0</td>\n",
       "    </tr>\n",
       "  </tbody>\n",
       "</table>\n",
       "</div>"
      ],
      "text/plain": [
       "              batter         pitcher pitch_type   game_date  release_speed  \\\n",
       "639012  Brandon Lowe  Hanser Alberto         FA  2021-04-20           64.9   \n",
       "639013  Brandon Lowe  Hanser Alberto         FA  2021-04-20           64.8   \n",
       "\n",
       "        release_pos_x  release_pos_z     events    description  zone  \\\n",
       "639012          -2.31           5.78  field_out  hit_into_play   4.0   \n",
       "639013          -2.31           5.80        NaN           ball  14.0   \n",
       "\n",
       "                                                      des game_type stand  \\\n",
       "639012  Brandon Lowe flies out to left fielder Andrew ...         R     L   \n",
       "639013  Brandon Lowe flies out to left fielder Andrew ...         R     L   \n",
       "\n",
       "       p_throws home_team away_team type  hit_location   bb_type  balls  \\\n",
       "639012        R        KC        TB    X           7.0  fly_ball      1   \n",
       "639013        R        KC        TB    B           NaN       NaN      0   \n",
       "\n",
       "        strikes  game_year  pfx_x  pfx_z  plate_x  plate_z  on_3b     on_2b  \\\n",
       "639012        0       2021  -0.04   1.11    -0.28     2.66    NaN  621563.0   \n",
       "639013        0       2021  -0.37   1.10     0.83     1.23    NaN  621563.0   \n",
       "\n",
       "        on_1b  outs_when_up  inning inning_topbot   hc_x    hc_y  fielder_2  \\\n",
       "639012    NaN             2       9           Top  78.82  120.58   521692.0   \n",
       "639013    NaN             2       9           Top    NaN     NaN   521692.0   \n",
       "\n",
       "             vx0        vy0       vz0        ax         ay         az  sz_top  \\\n",
       "639012  3.574256 -94.381933  0.987472 -0.833119  15.266780 -25.980730    3.30   \n",
       "639013  5.935795 -94.228769 -1.544814 -3.095241  14.168066 -25.594118    3.25   \n",
       "\n",
       "        sz_bot  hit_distance_sc  launch_speed  launch_angle  effective_speed  \\\n",
       "639012    1.50            228.0          87.0          54.0             62.8   \n",
       "639013    1.46              NaN           NaN           NaN             62.4   \n",
       "\n",
       "        release_spin_rate  release_extension  game_pk  pitcher.1  fielder_2.1  \\\n",
       "639012             1342.0                4.6   634407     593643     521692.0   \n",
       "639013             1304.0                4.2   634407     593643     521692.0   \n",
       "\n",
       "        fielder_3  fielder_4  fielder_5  fielder_6  fielder_7  fielder_8  \\\n",
       "639012   467793.0   593160.0   641531.0   670032.0   643217.0   572191.0   \n",
       "639013   467793.0   593160.0   641531.0   670032.0   643217.0   572191.0   \n",
       "\n",
       "        fielder_9  release_pos_y  estimated_ba_using_speedangle  \\\n",
       "639012   664728.0          55.89                          0.017   \n",
       "639013   664728.0          56.30                            NaN   \n",
       "\n",
       "        estimated_woba_using_speedangle  woba_value  woba_denom  babip_value  \\\n",
       "639012                            0.017         0.0         1.0          0.0   \n",
       "639013                              NaN         NaN         NaN          NaN   \n",
       "\n",
       "        iso_value  launch_speed_angle  at_bat_number  pitch_number  \\\n",
       "639012        0.0                 3.0             86             2   \n",
       "639013        NaN                 NaN             86             1   \n",
       "\n",
       "             pitch_name  home_score  away_score  bat_score  fld_score  \\\n",
       "639012  4-Seam Fastball           7          14         14          7   \n",
       "639013  4-Seam Fastball           7          14         14          7   \n",
       "\n",
       "        post_away_score  post_home_score  post_bat_score  post_fld_score  \\\n",
       "639012               14                7              14               7   \n",
       "639013               14                7              14               7   \n",
       "\n",
       "       if_fielding_alignment of_fielding_alignment  spin_axis  \\\n",
       "639012         Infield shift              Standard      221.0   \n",
       "639013         Infield shift              Standard      226.0   \n",
       "\n",
       "        delta_home_win_exp  delta_run_exp  key_mlbam key_retro key_bbref  \\\n",
       "639012                 0.0         -0.343     664040  loweb001  lowebr01   \n",
       "639013                 0.0          0.025     664040  loweb001  lowebr01   \n",
       "\n",
       "        key_fangraphs  mlb_played_first  mlb_played_last  \n",
       "639012          18882            2018.0           2021.0  \n",
       "639013          18882            2018.0           2021.0  "
      ]
     },
     "execution_count": 7,
     "metadata": {},
     "output_type": "execute_result"
    }
   ],
   "source": [
    "df[df['pitcher'] == 'Hanser Alberto']"
   ]
  },
  {
   "cell_type": "markdown",
   "metadata": {},
   "source": [
    "As expected, Alberto came in with his team down 14-7 and 2 outs in the top of 9th. His two fastballs were zooming at almost 65 mph, which was all he needed to get Brandon Lowe out. \n",
    "\n",
    "Though I love watching a position player pitch, I don't want Alberto's 65 mph fastball to throw off the model since it is an outlier and much slower than average. I'm going to remove any players from the dataset who threw less than 50 pitches. \n",
    "\n",
    "Sorry, Hanser."
   ]
  },
  {
   "cell_type": "code",
   "execution_count": 8,
   "metadata": {},
   "outputs": [],
   "source": [
    "not_pitcher = pitchers.loc[pitchers['count'] <= 50]\n",
    "not_pitcher = not_pitcher['pitcher'].to_list()\n",
    "\n",
    "df = df.loc[~df['pitcher'].isin(not_pitcher)]"
   ]
  },
  {
   "cell_type": "code",
   "execution_count": 9,
   "metadata": {},
   "outputs": [],
   "source": [
    "df['pitch_name'].dropna(inplace=True)"
   ]
  },
  {
   "cell_type": "code",
   "execution_count": 10,
   "metadata": {},
   "outputs": [],
   "source": [
    "# saving copy \n",
    "data = df.copy()\n",
    "data.to_csv('cleaned_pitch_model.csv')"
   ]
  },
  {
   "cell_type": "code",
   "execution_count": 11,
   "metadata": {},
   "outputs": [],
   "source": [
    "data = pd.read_csv('cleaned_pitch_model.csv')"
   ]
  },
  {
   "cell_type": "markdown",
   "metadata": {},
   "source": [
    "Because each pitcher is different, I'm going to create a function that allows the user to decide between using just fastballs/off-speed pitches or all the pitches a pitcher throws."
   ]
  },
  {
   "cell_type": "code",
   "execution_count": 12,
   "metadata": {},
   "outputs": [],
   "source": [
    "def pitch_model(data,fb_group, os_group):\n",
    "    data = data.loc[:,['pitch_name',\n",
    "                       'release_speed',\n",
    "                       'release_spin_rate',\n",
    "                       'vx0','vy0','vz0',\n",
    "                       'ax','ay','az']]\n",
    "    \n",
    "    data = data.dropna()\n",
    "    \n",
    "    def fb_filter(x):\n",
    "        if x=='4-Seam Fastball' or x=='Sinker' or x=='Cutter' or x=='Split-Finger':\n",
    "            return 'Fastballs'\n",
    "        return x\n",
    "    \n",
    "    if fb_group == True:\n",
    "        data['pitch_name'] = data['pitch_name'].apply(fb_filter)\n",
    "    \n",
    "    \n",
    "    def os_filter(x):\n",
    "        if x=='Curveball' or x=='Knuckle Curve' or x=='Slider' or x=='Changeup':\n",
    "            return 'Off-speed'\n",
    "        return x\n",
    "        \n",
    "    if os_group == True:\n",
    "        data['pitch_name'] = data['pitch_name'].apply(os_filter)\n",
    "    \n",
    "    # x = ['release_speed','vx0','vy0','vz0','ax','ay','az','release_spin_rate']\n",
    "    # y = 'pitch_name'\n",
    "    \n",
    "    X = data.loc[:,['release_speed','vx0','vy0','vz0','ax','ay','az','release_spin_rate']]\n",
    "    y = data.loc[:,['pitch_name']]\n",
    "    \n",
    "    X_train, X_test, y_train, y_test = train_test_split(X, y, test_size=0.2, random_state=8)\n",
    "    \n",
    "    dt = DecisionTreeClassifier(max_depth=10, min_samples_split=50)\n",
    "    \n",
    "    dt.fit(X_train, y_train)\n",
    "    \n",
    "    # train_pred= dt_model.predict(X_train)\n",
    "    # acc_train = (accuracy_score(train_pred, y_train)*100).round(2)\n",
    "    # print('Training Set Accuracy Score: {0} %'.format(acc_train.round(2)))\n",
    "    \n",
    "    y_pred = dt.predict(X_test)\n",
    "    acc_dt = (accuracy_score(y_pred, y_test)*100).round(2)\n",
    "    print('Test Set Accuracy Score: {0} %'.format(acc_dt.round(2)))\n",
    "    \n",
    "    \n",
    "    print(classification_report(y_pred, y_test))\n",
    "    "
   ]
  },
  {
   "cell_type": "code",
   "execution_count": 15,
   "metadata": {},
   "outputs": [],
   "source": [
    "def pitch_model(data,fb_group, os_group):\n",
    "    data = data.loc[:,['pitch_name',\n",
    "                       'release_speed',\n",
    "                       'release_spin_rate',\n",
    "                       'vx0','vy0','vz0',\n",
    "                       'ax','ay','az']]\n",
    "    \n",
    "    data = data.dropna()\n",
    "    \n",
    "    def fb_filter(x):\n",
    "        if x=='4-Seam Fastball' or x=='Sinker' or x=='Cutter' or x=='Split-Finger':\n",
    "            return 'Fastballs'\n",
    "        return x\n",
    "    \n",
    "    if fb_group == True:\n",
    "        data['pitch_name'] = data['pitch_name'].apply(fb_filter)\n",
    "    \n",
    "    \n",
    "    def os_filter(x):\n",
    "        if x=='Curveball' or x=='Knuckle Curve' or x=='Slider' or x=='Changeup':\n",
    "            return 'Off-speed'\n",
    "        return x\n",
    "        \n",
    "    if os_group == True:\n",
    "        data['pitch_name'] = data['pitch_name'].apply(os_filter)\n",
    "        \n",
    "    x = ['release_speed','vx0','vy0','vz0','ax','ay','az','release_spin_rate']\n",
    "    y = 'pitch_name'\n",
    "    \n",
    "    train, test = train_test_split(data, test_size=0.2)\n",
    "    \n",
    "    dt = DecisionTreeClassifier(max_depth=10, min_samples_split=50)\n",
    "    \n",
    "    dt.fit(train[x], train[y])\n",
    "    \n",
    "    # train_pred= dt_model.predict(X_train)\n",
    "    # acc_train = (accuracy_score(train_pred, y_train)*100).round(2)\n",
    "    # print('Training Set Accuracy Score: {0} %'.format(acc_train.round(2)))\n",
    "    \n",
    "    y_pred = dt.predict(test[x])\n",
    "    acc_dt = (accuracy_score(y_pred, test[y])*100).round(2)\n",
    "    print('Test Set Accuracy Score: {0} %'.format(acc_dt.round(2)))\n",
    "    print(classification_report(y_pred, test[y]))\n",
    "    \n",
    "    # test['pitch_hat'] = y_pred\n",
    "    # test['correct'] = (test['pitch_hat'] == test['pitch_name'])\n",
    "    \n",
    "    # probs = pd.DataFrame(dt.predict_proba(test[x]), index=test.index, columns=dt.classes_)\n",
    "    # results = pd.concat([test[['pitch_name', 'pitch_hat', 'correct']], probs], axis=1)\n",
    "    # results = results.round(2)\n",
    "    \n",
    "    # return(results)\n",
    "    "
   ]
  },
  {
   "cell_type": "markdown",
   "metadata": {},
   "source": [
    "Testing the pitch model function:"
   ]
  },
  {
   "cell_type": "code",
   "execution_count": 16,
   "metadata": {},
   "outputs": [
    {
     "name": "stdout",
     "output_type": "stream",
     "text": [
      "Test Set Accuracy Score: 82.36 %\n",
      "                 precision    recall  f1-score   support\n",
      "\n",
      "4-Seam Fastball       0.93      0.91      0.92     50995\n",
      "       Changeup       0.87      0.84      0.86     16644\n",
      "      Curveball       0.73      0.75      0.74     11521\n",
      "         Cutter       0.45      0.61      0.52      6887\n",
      "  Knuckle Curve       0.23      0.56      0.33      1117\n",
      "         Sinker       0.80      0.84      0.82     21057\n",
      "         Slider       0.88      0.75      0.81     31662\n",
      "   Split-Finger       0.32      0.77      0.45       920\n",
      "\n",
      "       accuracy                           0.82    140803\n",
      "      macro avg       0.65      0.75      0.68    140803\n",
      "   weighted avg       0.85      0.82      0.83    140803\n",
      "\n"
     ]
    }
   ],
   "source": [
    "pitch_model(data, fb_group = False, os_group = False)"
   ]
  },
  {
   "cell_type": "markdown",
   "metadata": {},
   "source": [
    "The results are almost identical to the original pitch model from the previous post. \n",
    "\n",
    "Now, testing with the fastball and offspeed:"
   ]
  },
  {
   "cell_type": "code",
   "execution_count": 19,
   "metadata": {},
   "outputs": [
    {
     "name": "stdout",
     "output_type": "stream",
     "text": [
      "Test Set Accuracy Score: 93.05 %\n",
      "              precision    recall  f1-score   support\n",
      "\n",
      "   Fastballs       0.93      0.95      0.94     81233\n",
      "   Off-speed       0.93      0.90      0.92     59570\n",
      "\n",
      "    accuracy                           0.93    140803\n",
      "   macro avg       0.93      0.93      0.93    140803\n",
      "weighted avg       0.93      0.93      0.93    140803\n",
      "\n"
     ]
    }
   ],
   "source": [
    "pitch_model(data, fb_group = True, os_group= True )"
   ]
  },
  {
   "cell_type": "markdown",
   "metadata": {},
   "source": [
    "With the filters on, the results are *slightly* better than the previous post. \n",
    "\n",
    "Running the model again with the fastball filter on and the off-speed filter off: "
   ]
  },
  {
   "cell_type": "code",
   "execution_count": 20,
   "metadata": {},
   "outputs": [
    {
     "name": "stdout",
     "output_type": "stream",
     "text": [
      "Test Set Accuracy Score: 88.3 %\n",
      "               precision    recall  f1-score   support\n",
      "\n",
      "     Changeup       0.88      0.85      0.86     16415\n",
      "    Curveball       0.77      0.75      0.76     12172\n",
      "    Fastballs       0.93      0.95      0.94     81575\n",
      "Knuckle Curve       0.29      0.59      0.39      1340\n",
      "       Slider       0.85      0.79      0.82     29301\n",
      "\n",
      "     accuracy                           0.88    140803\n",
      "    macro avg       0.74      0.79      0.75    140803\n",
      " weighted avg       0.89      0.88      0.88    140803\n",
      "\n"
     ]
    }
   ],
   "source": [
    "pitch_model(data, fb_group = True, os_group= False)"
   ]
  },
  {
   "cell_type": "markdown",
   "metadata": {},
   "source": [
    "And finally, the fastball fitler off and the off-speed filter on:"
   ]
  },
  {
   "cell_type": "code",
   "execution_count": 21,
   "metadata": {},
   "outputs": [
    {
     "name": "stdout",
     "output_type": "stream",
     "text": [
      "Test Set Accuracy Score: 87.66 %\n",
      "                 precision    recall  f1-score   support\n",
      "\n",
      "4-Seam Fastball       0.93      0.91      0.92     51281\n",
      "         Cutter       0.54      0.59      0.57      8539\n",
      "      Off-speed       0.92      0.91      0.91     58738\n",
      "         Sinker       0.81      0.83      0.82     21150\n",
      "   Split-Finger       0.37      0.73      0.49      1095\n",
      "\n",
      "       accuracy                           0.88    140803\n",
      "      macro avg       0.72      0.79      0.74    140803\n",
      "   weighted avg       0.88      0.88      0.88    140803\n",
      "\n"
     ]
    }
   ],
   "source": [
    "pitch_model(data, fb_group = False, os_group= True)"
   ]
  },
  {
   "cell_type": "markdown",
   "metadata": {},
   "source": [
    "\n",
    "-----------\n",
    "So far, we've used data from all of the pitchers in 2021. Since each pitcher has his own set of pitches that he throws a certain way, it makes sense that the model has trouble telling the difference between certain pitch types. \n",
    "\n",
    "\n",
    "Now let's try the model with a single pitcher. We'll start with 2021 NL Cy Young winner, Corbin Burnes. "
   ]
  },
  {
   "cell_type": "code",
   "execution_count": 27,
   "metadata": {},
   "outputs": [],
   "source": [
    "burnes = data.loc[data['pitcher'] == \"Corbin Burnes\"]"
   ]
  },
  {
   "cell_type": "code",
   "execution_count": 28,
   "metadata": {},
   "outputs": [
    {
     "name": "stdout",
     "output_type": "stream",
     "text": [
      "Test Set Accuracy Score: 99.42 %\n",
      "                 precision    recall  f1-score   support\n",
      "\n",
      "4-Seam Fastball       0.67      0.80      0.73         5\n",
      "       Changeup       1.00      1.00      1.00        48\n",
      "      Curveball       1.00      1.00      1.00       103\n",
      "         Cutter       1.00      1.00      1.00       264\n",
      "         Sinker       0.98      0.98      0.98        49\n",
      "         Slider       1.00      1.00      1.00        50\n",
      "\n",
      "       accuracy                           0.99       519\n",
      "      macro avg       0.94      0.96      0.95       519\n",
      "   weighted avg       0.99      0.99      0.99       519\n",
      "\n"
     ]
    }
   ],
   "source": [
    "# Filters off\n",
    "pitch_model(burnes, fb_group = False, os_group= False)"
   ]
  },
  {
   "cell_type": "code",
   "execution_count": 29,
   "metadata": {},
   "outputs": [
    {
     "name": "stdout",
     "output_type": "stream",
     "text": [
      "Test Set Accuracy Score: 99.42 %\n",
      "              precision    recall  f1-score   support\n",
      "\n",
      "   Fastballs       0.99      1.00      1.00       315\n",
      "   Off-speed       1.00      0.99      0.99       204\n",
      "\n",
      "    accuracy                           0.99       519\n",
      "   macro avg       0.99      0.99      0.99       519\n",
      "weighted avg       0.99      0.99      0.99       519\n",
      "\n"
     ]
    }
   ],
   "source": [
    "# Filters on\n",
    "pitch_model(burnes, fb_group = True, os_group= True)"
   ]
  },
  {
   "cell_type": "code",
   "execution_count": 30,
   "metadata": {},
   "outputs": [
    {
     "name": "stdout",
     "output_type": "stream",
     "text": [
      "Test Set Accuracy Score: 99.81 %\n",
      "              precision    recall  f1-score   support\n",
      "\n",
      "    Changeup       0.98      1.00      0.99        55\n",
      "   Curveball       1.00      1.00      1.00        89\n",
      "   Fastballs       1.00      1.00      1.00       322\n",
      "      Slider       1.00      1.00      1.00        53\n",
      "\n",
      "    accuracy                           1.00       519\n",
      "   macro avg       1.00      1.00      1.00       519\n",
      "weighted avg       1.00      1.00      1.00       519\n",
      "\n"
     ]
    }
   ],
   "source": [
    "# Fastballs grouped\n",
    "pitch_model(burnes, fb_group = True, os_group= False)"
   ]
  },
  {
   "cell_type": "code",
   "execution_count": 31,
   "metadata": {},
   "outputs": [
    {
     "name": "stdout",
     "output_type": "stream",
     "text": [
      "Test Set Accuracy Score: 99.42 %\n",
      "                 precision    recall  f1-score   support\n",
      "\n",
      "4-Seam Fastball       0.85      1.00      0.92        11\n",
      "         Cutter       1.00      1.00      1.00       267\n",
      "      Off-speed       1.00      0.99      1.00       197\n",
      "         Sinker       1.00      0.98      0.99        44\n",
      "\n",
      "       accuracy                           0.99       519\n",
      "      macro avg       0.96      0.99      0.97       519\n",
      "   weighted avg       0.99      0.99      0.99       519\n",
      "\n"
     ]
    }
   ],
   "source": [
    "# Off Speed grouped\n",
    "pitch_model(burnes, fb_group = False, os_group= True)"
   ]
  },
  {
   "cell_type": "markdown",
   "metadata": {},
   "source": [
    "The model does not perform well on Burnes's 4-Seam Fastball. Probably because he doesn't use it very often. "
   ]
  },
  {
   "cell_type": "markdown",
   "metadata": {},
   "source": [
    "-----------\n",
    "Now the 2021 AL Cy Young winner, Robbie Ray:"
   ]
  },
  {
   "cell_type": "code",
   "execution_count": 33,
   "metadata": {},
   "outputs": [],
   "source": [
    "ray = data.loc[data['pitcher'] == \"Robbie Ray\"]"
   ]
  },
  {
   "cell_type": "code",
   "execution_count": 34,
   "metadata": {},
   "outputs": [
    {
     "name": "stdout",
     "output_type": "stream",
     "text": [
      "Test Set Accuracy Score: 98.73 %\n",
      "                 precision    recall  f1-score   support\n",
      "\n",
      "4-Seam Fastball       1.00      0.99      1.00       377\n",
      "       Changeup       0.93      0.96      0.95        27\n",
      "  Knuckle Curve       0.91      0.97      0.94        33\n",
      "         Slider       0.99      0.98      0.98       191\n",
      "\n",
      "       accuracy                           0.99       628\n",
      "      macro avg       0.96      0.98      0.97       628\n",
      "   weighted avg       0.99      0.99      0.99       628\n",
      "\n"
     ]
    }
   ],
   "source": [
    "# Filters off\n",
    "pitch_model(ray, fb_group = False, os_group= False)"
   ]
  },
  {
   "cell_type": "code",
   "execution_count": 35,
   "metadata": {},
   "outputs": [
    {
     "name": "stdout",
     "output_type": "stream",
     "text": [
      "Test Set Accuracy Score: 99.2 %\n",
      "              precision    recall  f1-score   support\n",
      "\n",
      "   Fastballs       1.00      0.99      0.99       366\n",
      "   Off-speed       0.98      1.00      0.99       262\n",
      "\n",
      "    accuracy                           0.99       628\n",
      "   macro avg       0.99      0.99      0.99       628\n",
      "weighted avg       0.99      0.99      0.99       628\n",
      "\n"
     ]
    }
   ],
   "source": [
    "#Filters on\n",
    "pitch_model(ray, fb_group = True, os_group= True)"
   ]
  },
  {
   "cell_type": "code",
   "execution_count": 36,
   "metadata": {},
   "outputs": [
    {
     "name": "stdout",
     "output_type": "stream",
     "text": [
      "Test Set Accuracy Score: 98.73 %\n",
      "               precision    recall  f1-score   support\n",
      "\n",
      "     Changeup       0.88      1.00      0.94        15\n",
      "    Fastballs       1.00      0.99      1.00       362\n",
      "Knuckle Curve       0.98      0.93      0.95        43\n",
      "       Slider       0.98      0.99      0.98       208\n",
      "\n",
      "     accuracy                           0.99       628\n",
      "    macro avg       0.96      0.98      0.97       628\n",
      " weighted avg       0.99      0.99      0.99       628\n",
      "\n"
     ]
    }
   ],
   "source": [
    "# Fastballs grouped\n",
    "pitch_model(ray, fb_group = True, os_group= False)"
   ]
  },
  {
   "cell_type": "code",
   "execution_count": 37,
   "metadata": {},
   "outputs": [
    {
     "name": "stdout",
     "output_type": "stream",
     "text": [
      "Test Set Accuracy Score: 98.73 %\n",
      "                 precision    recall  f1-score   support\n",
      "\n",
      "4-Seam Fastball       0.99      0.99      0.99       373\n",
      "      Off-speed       0.98      0.99      0.99       253\n",
      "         Sinker       1.00      0.50      0.67         2\n",
      "\n",
      "       accuracy                           0.99       628\n",
      "      macro avg       0.99      0.83      0.88       628\n",
      "   weighted avg       0.99      0.99      0.99       628\n",
      "\n"
     ]
    }
   ],
   "source": [
    "# Off Speed grouped\n",
    "pitch_model(ray, fb_group = False, os_group= True)"
   ]
  }
 ],
 "metadata": {
  "kernelspec": {
   "display_name": "Python 3.8.8 ('base')",
   "language": "python",
   "name": "python3"
  },
  "language_info": {
   "codemirror_mode": {
    "name": "ipython",
    "version": 3
   },
   "file_extension": ".py",
   "mimetype": "text/x-python",
   "name": "python",
   "nbconvert_exporter": "python",
   "pygments_lexer": "ipython3",
   "version": "3.8.8"
  },
  "orig_nbformat": 4,
  "vscode": {
   "interpreter": {
    "hash": "40d3a090f54c6569ab1632332b64b2c03c39dcf918b08424e98f38b5ae0af88f"
   }
  }
 },
 "nbformat": 4,
 "nbformat_minor": 2
}
